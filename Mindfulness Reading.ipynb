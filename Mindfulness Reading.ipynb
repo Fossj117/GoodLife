{
 "metadata": {
  "name": "",
  "signature": "sha256:8ab9b37db3b4c748522188f837022bdf115997858c0dff5e5b538d65320c1e01"
 },
 "nbformat": 3,
 "nbformat_minor": 0,
 "worksheets": [
  {
   "cells": [
    {
     "cell_type": "markdown",
     "metadata": {},
     "source": [
      "# Mindfulness - Reading List\n",
      "### Good Life Group\n",
      "**Date**: January 18th, 2015 <br/>\n",
      "**Prepared by**: Jeff Fossett <br/>"
     ]
    },
    {
     "cell_type": "markdown",
     "metadata": {},
     "source": [
      "Readings for this week are primarily from works by [Jon Kabat-Zinn](http://en.wikipedia.org/wiki/Jon_Kabat-Zinn). No pressure to read everything: an abbreviated reading plan might include the \"Sitting Meditation\" section from *Full Catastrophe Living* as well as the first 5-6 sections from *Wherever You Go*."
     ]
    },
    {
     "cell_type": "markdown",
     "metadata": {},
     "source": [
      "### About Mindfulness and Meditation:\n",
      "\n",
      "Excerpts from *Wherever You Go, There You Are* ([Link to PDF](http://gallery.mailchimp.com/8e752e4bbd262c334baf13009/files/Jon_Kabat_Zinn_Wherever_You_Go_There_You_Are_Mindfulness_Meditation_in_Everyday_Life.pdf)). I suggest reading the first chunk of sections straight through, including the following:  \n",
      "\n",
      "* **Introduction**\n",
      "* **What is Mindfulness?**\n",
      "* **Simple but Not Easy**\n",
      "* **Stopping**\n",
      "* **This Is It**\n",
      "* **Capturing Your Moments**\n",
      "* **Keeping the Breath in Mind**\n",
      "* **Practice, Practice, Practice**\n",
      "* Practice Does Not Mean Rehearsal\n",
      "* You Don't Have to Go Out of Your Way to Practice\n",
      "* Waking Up\n",
      "* Keeping It Simple\n",
      "* **You Can't Stop the Waves but You Can Learn to Surf**\n",
      "* Can Anybody Meditate?\n",
      "* **In Praise of Non-Doing**\n",
      "* **The Non-Doing Paradox**\n",
      "* Non-Doing in Action\n",
      "* Doing Non-Doing\n",
      "* Patience\n",
      "* Letting Go\n",
      "* Non-Judging\n",
      "* Trust\n",
      "\n",
      "And then also these subsequent sections from later in the book:\n",
      "   \n",
      "* Meditation: Not to Be Confused with Positive Thinking\n",
      "* **Wherever You Go, There You Are**\n",
      "* **Selfing**\n",
      "\n",
      "Bolded sections are especially recommended."
     ]
    },
    {
     "cell_type": "markdown",
     "metadata": {},
     "source": [
      "### How to Meditate:\n",
      "\n",
      "Excerpt on \"Sitting Meditation\" from *Full Catastrophe Living* ([Link](http://www.lelandshields.com/Meditation/Full%20Catastrophe%20Living%20-%20Kabat-Zinn.pdf))\n",
      "* Context: this is from a book about/for a Mindfulness-Based Stress Reduction class that JKZ teaches."
     ]
    },
    {
     "cell_type": "markdown",
     "metadata": {},
     "source": [
      "### Optional Readings: \n",
      "\n",
      "* *Mindfulness in Plain English* (Henepola Gunaratana) - [Link](http://www.vipassana.com/meditation/mindfulness_in_plain_english.php)\n",
      "    * A bit more mystical/spiritual take, but also has some helpful content. \n",
      "* *This is Water* (DFW) - [Text](http://www.metastatic.org/text/This%20is%20Water.pdf), [Video](https://www.youtube.com/watch?v=8CrOL-ydFMI)\n",
      "    * c.f. the section titled \"Selfing\" from *Wherever You Go*\n",
      "* **The Attitudinal Foundation of Mindfulness Practice**, summarized from *Full Catastrophe Living* (JKZ) - ([Link](http://www.mindfulness-meditation-now.com/support-files/seven-attitudes.pdf); also [here](http://mindfuluniverse.com/attitudinal-foundations-of-mindfulness-practice)):\n",
      "    1. Non-Judging\n",
      "    2. Patience\n",
      "    3. Beginner's Mind\n",
      "    4. Trust\n",
      "    5. Non-Striving\n",
      "    6. Acceptance\n",
      "    7. Letting Go"
     ]
    }
   ],
   "metadata": {}
  }
 ]
}