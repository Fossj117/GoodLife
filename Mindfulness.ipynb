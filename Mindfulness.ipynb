{
 "metadata": {
  "name": "",
  "signature": "sha256:4d747ddbd9c9f339ce32785e25df6978b482aa22f5a1fabcb717de89808edd7f"
 },
 "nbformat": 3,
 "nbformat_minor": 0,
 "worksheets": [
  {
   "cells": [
    {
     "cell_type": "markdown",
     "metadata": {},
     "source": [
      "## Mindfulness & Non-Striving\n",
      "\n",
      "In *Full Catastrophe Living*, Jon Kabat-Zinn (hereafter JKZ) outlines seven attitudinal foundations of mindfulness practice. One of these seven pillars is called \"Non-striving\" (in *Wherever you go*, JKZ writes on a similar theme under the term \"Non-doing\"). JKZ succinctly explains what non-striving is about: \n",
      "\n",
      "> Almost everything we do we do for a purpose, to get something or somewhere. But in meditation this attitude can be a real obstacle. That is because meditation is different from all other human activities. Although it takes a lot of work and energy of a certain kind, ultimately meditation is a non-doing. It has no goal other than for you to be yourself.\n",
      "\n",
      "The difficulty with practicing meditation in order to \"get somewhere\", JKZ goes on to explain, is that when you sit down to meditate with a goal in mind (e.g. to get more relaxed or enlightened or whatever), you implicitly introduce the notion that where you are currently at (i.e. not yet relaxed or enlightened or whatever) is somehow insufficient or bad. You engage with a sort of \"if-only\" thinking that I'm sure we are all familiar with: \"If only I were more relaxed or aware in my life, then everything would be better; but right now, I am not okay yet\". "
     ]
    },
    {
     "cell_type": "markdown",
     "metadata": {},
     "source": [
      "I wanted to write on non-striving because I think that it is one of the most challenging aspects of meditation practice for me, and for us as members of a group that--by our own definition--is largely about striving to make our lives better or happier. Personally, I know that I spend a lot of mental energy on \"striving\" and \"if-only\" thinking. To take an obvious example, I know that a lot of the material purchases (or at least the *impulses* to make material purchases) I make are driven this way: \"If only I had this gadget or those clothes, then things would be so much better\". For example, when I was considering buying an iPad, I was thinking all about how nice it would be to have a convenient, portable device that made it easy to read PDFs; I thought about all the reading and learning I would do and how much it would improve my life: \"If only I had this iPad, how much better I would be\". \n",
      "\n",
      "I say that this is an \"obvious\" example because it seems pretty clear that the lion's share of marketing and advertising--whether implicitly or explicitly--is trying to encourage just this sort of thinking. Furthermore, it's an obvious example in the sense that, when you step back even an inch from being caught up in the \"if only\" logic, it's clear that the line of reasoning is pretty ridiculous. The iPad won't make that much of a difference (though I might be excited about it for a while), and I will still be *me* after a little while, albeit with an iPad in tow. We all know that the new pair of shoes (or whatever) won't *really* make us more popular like the commercial suggests, even if that's part of the reason that we buy them anyway "
     ]
    },
    {
     "cell_type": "markdown",
     "metadata": {},
     "source": [
      "However, the reason for starting with this trivial example is that other cases of striving and \"if only\" thinking are more difficult to recognize, and feel more problematic to dismiss. In fact, we tend to place a high value on some sanctioned forms of striving--we think of them as *good*. For example, when I was working in Boston, I felt like my job was lame. I thought that I was better than it, and I resented and felt dissatistfied with having found myself there. As a result, I felt \"driven\" and obsessed with getting to a better place (a better job etc.) that my \"remembering self\" (to use last week's terminology) would be more satisfied with. \"*If only* I had a better job, then everything would be great; but right now, I am not in a good enough place\". \n",
      "\n",
      "This \"if only\" thinking led to a lot of feelings of stress and anxiety for my experiencing self. However, unlike in the iPad case, this form of striving feels much more justified. Striving and working hard to get what you want in a professional context is praised--it feels like a more worthy type of attachment. However, with that said, we still know (on some level) that too much professional striving can be problematic. There is a common trope of the guy or gal who focuses too much on his or her career and winds up missing all the important things. \n",
      "\n",
      "But what about the more extreme case of striving for happiness, or striving to lead a better or more worthy life? Surely *this* is something that we (and everyone) should always be doing. Does non-striving mean that we can't try to be better people but instead just have to be content with things as they are? Is non-striving the same as complacency? And, more generally, why practice meditation at all if it doesn't involve trying to make anything better?  "
     ]
    },
    {
     "cell_type": "markdown",
     "metadata": {},
     "source": [
      "JKZ explores these questions in several places in the two readings. In one helpful discussion, later on in the section from *Full Catastrophe Living* that's quoted above, JKZ describes how participants in the Mindfulness-Based Stress Reduction (MBSR) class that he teaches are asked at the outset to state their \"goals\" for the course (e.g. to be more relaxed, to become less stressed). To their surprise, the participants are then asked *not* to try to make any progress towards these goals during the course of the class. The reason for this is not that the MBSR won't help them reach these goals; rather, the reason is that, from the mindfulness perspective, *striving* towards these goals won't help a participant get there. In other words:\n",
      "\n",
      ">... in the meditative domain, the best way to achieve your goals is to **back off from striving for results** and instead to start focusing carefully on seeing and accepting things as they are, moment by moment. With patience and regular practice, **movement toward your goals will take place by itself**. This movement becomes an unfolding that you are inviting to happen within you. (emphasis mine)\n",
      "\n",
      "So non-striving isn't about complacency, or about not reaching your goals, it's about *how* you go about reaching your goals. Instead of striving for them, or engaging in \"if only\" thinking, the meditative perspective encourages what JKZ calls \"effortless activity\": allowing things to unfold naturally, without forcing anything to happen. This idea is obvious in the context of sports, where \"over-thinking\" (i.e striving) rather than \"being in the flow\" is a known detriment to performance (JKZ discusses this at some point). Why? Because when you're over-thinking, you're focused on the goal, which gets in the way of completing the moment-to-moment process that actually gets you there. JKZ explains: \n",
      "\n",
      "> It [non-doing] reeks of paradox. The only way you can do anyting of value is to have the effort come out of non-doing and to let go of caring whether it will be of use or not. Otherwise, self-involvement and greediness can sneak in and distort your relationship to the work, or the work itself, so that it is off in some way, biased, impure, and ultimately not completely satisfying, even if it is good.\n",
      "\n",
      "But putting sports aside, what about in the context of pursuing well-being and a good, balanced and happy life? What about in the context of pursuing health or better relationships or a better career? Should we be wary of striving and \"if only\" thinking in these domains? Do we think, perhaps, that striving is OK in some contexts (e.g. careers), but not in others? If so, why? And if not, how do we keep that in mind in our meetings and our discussions going forward? How do we encourage ourselves and each other to be better without \"forcing it\"? What would it look like for us to let things unfold in their own time, as JKZ suggests?"
     ]
    }
   ],
   "metadata": {}
  }
 ]
}